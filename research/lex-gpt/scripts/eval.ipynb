{
 "cells": [
  {
   "cell_type": "code",
   "execution_count": 1,
   "metadata": {},
   "outputs": [],
   "source": [
    "import re\n",
    "import json\n",
    "import numpy as np\n",
    "import pandas as pd\n",
    "from langchain.vectorstores import Chroma\n",
    "from langchain.chat_models import ChatOpenAI\n",
    "from langchain.chains import QAGenerationChain\n",
    "from langchain.document_loaders import TextLoader\n",
    "from langchain.embeddings.openai import OpenAIEmbeddings\n",
    "from langchain.text_splitter import RecursiveCharacterTextSplitter"
   ]
  },
  {
   "cell_type": "code",
   "execution_count": 2,
   "metadata": {},
   "outputs": [],
   "source": [
    "# Read\n",
    "episode_id = \"0333\"\n",
    "doc = pd.read_csv(\"audio_transcription/%s.txt\"%episode_id,sep='\\t')\n",
    "doc.columns=['links','time','chunks']\n",
    "\n",
    "# Clean text chunks \n",
    "doc['clean_chunks']=doc['chunks'].astype(str).apply(lambda x: x.strip())\n",
    "\n",
    "# Write updated file (b/c we isolate sections for question-answer formulation below)\n",
    "with open('audio_transcription/%s_text.txt'%episode_id, \"w\") as f:\n",
    "    for i in doc.index:\n",
    "        string = doc.loc[i,'clean_chunks']\n",
    "        f.write(string + \"\\n\") "
   ]
  },
  {
   "cell_type": "code",
   "execution_count": 6,
   "metadata": {},
   "outputs": [
    {
     "data": {
      "text/plain": [
       "[{'question': 'What is the transformer architecture in deep learning?',\n",
       "  'answer': 'The transformer architecture is a neural network architecture that is general purpose and can process different sensory modalities like vision, audio, text, and video. It is simultaneously expressive in the forward pass, optimizable via backpropagation, gradient descent, and efficient high parallelism compute graph.'},\n",
       " {'question': 'What is a transformer and how is it designed?',\n",
       "  'answer': 'A transformer is a series of blocks with attention and a multilayer perceptron. It is designed to be very expressive in a forward pass, optimizable in a backward pass, and efficient in hardware. The residual connections support the ability to learn short algorithms fast and first, and then gradually extend them longer during training.'},\n",
       " {'question': 'What is a transformer architecture and why is it important?',\n",
       "  'answer': 'A transformer architecture is a type of neural network that is remarkably resilient and can simultaneously optimize for lots of properties of a desirable neural network architecture. It is important because it is a big step in AI and has proven to be extremely powerful and can solve arbitrary problems.'},\n",
       " {'question': 'What is a language model and how does it work?',\n",
       "  'answer': 'A language model is a system that predicts the next word in a sequence of words. It can be done using count-based models like Ngram models or neural networks like transformers. The objective is simple, but to predict the next word accurately, the model needs to understand the context of the text, which requires a lot of knowledge about the world.'},\n",
       " {'question': \"What is the author's opinion on the transition to software 2.0?\",\n",
       "  'answer': \"The author believes that neural nets are taking over software and that the way we program computers is going to change. The author thinks that at some point, there's going to be a compilation process from the data sets and the objective and the architecture specification into the binary, which is really just the neural net weights and the forward pass of the neural net.\"},\n",
       " {'question': 'What is the task of programming in software 2.0?',\n",
       "  'answer': 'The task of programming in software 2.0 is changing the data set and loss functions of the neural net, as well as specifying the architecture of the neural net.'},\n",
       " {'question': 'What are the three properties of a good dataset for supervised learning?',\n",
       "  'answer': 'The three properties of a good dataset for supervised learning are that it needs to be large, accurate, and diverse.'}]"
      ]
     },
     "execution_count": 6,
     "metadata": {},
     "output_type": "execute_result"
    }
   ],
   "source": [
    "# Note: feeding complete file failed for non-obvious reasons (JSON error; searched at length for invalid chars but could not find)\n",
    "# In any case, I fed small chunks of the dataset into the QA generation and it worked (and maybe improved the QA since inputs were selected \n",
    "filename = 'audio_transcription/0333_text_transformer.txt'\n",
    "loader = TextLoader(filename)\n",
    "doc_karpathy = loader.load()[0]\n",
    "txt_transformer = doc_karpathy.page_content\n",
    "\n",
    "filename = 'audio_transcription/0333_text_sw2dot0.txt'\n",
    "loader = TextLoader(filename)\n",
    "doc_karpathy = loader.load()[0]\n",
    "txt_sw20 = doc_karpathy.page_content\n",
    "\n",
    "filename = 'audio_transcription/0333_text_sd.txt'\n",
    "loader = TextLoader(filename)\n",
    "doc_karpathy = loader.load()[0]\n",
    "txt_sd= doc_karpathy.page_content\n",
    "\n",
    "chain = QAGenerationChain.from_llm(ChatOpenAI(temperature = 0))\n",
    "qa_karpathy_transformer = chain.run(txt_transformer)\n",
    "\n",
    "chain = QAGenerationChain.from_llm(ChatOpenAI(temperature = 0))\n",
    "qa_karpathy_sw20 = chain.run(txt_sw20)\n",
    "\n",
    "chain = QAGenerationChain.from_llm(ChatOpenAI(temperature = 0))\n",
    "qa_karpathy_sd= chain.run(txt_sd)\n",
    "\n",
    "qa_all = qa_karpathy_transformer + qa_karpathy_sw20 + qa_karpathy_sd\n",
    "qa_all"
   ]
  },
  {
   "attachments": {},
   "cell_type": "markdown",
   "metadata": {},
   "source": [
    "`Notes -` \n",
    "\n",
    "https://langchain.readthedocs.io/en/latest/use_cases/evaluation/qa_generation.html"
   ]
  },
  {
   "cell_type": "code",
   "execution_count": 22,
   "metadata": {},
   "outputs": [],
   "source": [
    "from langchain.llms import OpenAI\n",
    "from langchain.vectorstores import Chroma\n",
    "from langchain.vectorstores import FAISS\n",
    "from langchain.chains import VectorDBQA\n",
    "from langchain.evaluation.qa import QAEvalChain\n",
    "\n",
    "def make_splits(chunk_size,overlap,texts,links,episode_id):\n",
    "\n",
    "    text_splitter = RecursiveCharacterTextSplitter(chunk_size=chunk_size, chunk_overlap=overlap) \n",
    "    splits = text_splitter.split_text(texts)\n",
    "    bins = np.linspace(0,len(links)-1,len(splits),dtype=int)\n",
    "    sampled_links = [links[i] for i in bins]\n",
    "    metadatas=[{\"source\":link,\"id\":episode_id,\"link\":link} for link in sampled_links]\n",
    "    db = FAISS.from_texts(splits, OpenAIEmbeddings(), metadatas=metadatas) \n",
    "    chain = VectorDBQA.from_chain_type(llm=ChatOpenAI(temperature=0), \n",
    "                                       chain_type=\"stuff\", \n",
    "                                       vectorstore=db, \n",
    "                                       input_key=\"question\")\n",
    "    \n",
    "    return chain \n",
    "\n",
    "episode_id = \"0333\"\n",
    "doc = pd.read_csv(\"audio_transcription/%s.txt\"%episode_id,sep='\\t')\n",
    "doc.columns=['links','time','chunks']\n",
    "doc['clean_chunks']=doc['chunks'].astype(str).apply(lambda x: x.strip())\n",
    "\n",
    "chains = {}\n",
    "overlap = 50\n",
    "for chunk_size in [250,500,1000,2000,3000]:\n",
    "    chain = make_splits(chunk_size,overlap,list(doc['clean_chunks']),list(doc['links']),episode_id)\n",
    "    chains[chunk_size] = chain\n"
   ]
  },
  {
   "cell_type": "code",
   "execution_count": 36,
   "metadata": {},
   "outputs": [],
   "source": [
    "def run_eval(chain):\n",
    "    predictions = []\n",
    "    predicted_dataset = []\n",
    "    for data in qa_all:\n",
    "        new_data = {\"question\": data[\"question\"],\"answer\": data[\"answer\"]}\n",
    "        predictions.append(chain(new_data))\n",
    "        predicted_dataset.append(new_data)\n",
    "    return predictions,predicted_dataset\n",
    "\n",
    "predictions_list = []\n",
    "scores_list = []\n",
    "eval_chain = QAEvalChain.from_llm(llm=ChatOpenAI(temperature=0))\n",
    "for chunk_size in [250,500,1000,2000,3000]:\n",
    "    predictions,predicted_dataset=run_eval(chains[chunk_size])\n",
    "    predictions_list.append(predictions)\n",
    "    graded_outputs = eval_chain.evaluate(predicted_dataset, predictions, question_key=\"question\", prediction_key=\"result\")\n",
    "    scores_list.append(graded_outputs)"
   ]
  },
  {
   "cell_type": "code",
   "execution_count": 35,
   "metadata": {},
   "outputs": [
    {
     "data": {
      "text/plain": [
       "[{'text': 'INCORRECT'},\n",
       " {'text': 'INCORRECT'},\n",
       " {'text': 'CORRECT'},\n",
       " {'text': 'CORRECT'},\n",
       " {'text': 'CORRECT'},\n",
       " {'text': 'INCORRECT'},\n",
       " {'text': 'INCORRECT'}]"
      ]
     },
     "execution_count": 35,
     "metadata": {},
     "output_type": "execute_result"
    }
   ],
   "source": [
    "# 250 -\n",
    "graded_outputs"
   ]
  },
  {
   "cell_type": "code",
   "execution_count": 38,
   "metadata": {},
   "outputs": [],
   "source": [
    "stor=pd.DataFrame()\n",
    "for i,chunk_size in enumerate([250,500,1000,2000,3000]):\n",
    "    d=scores_list[i]\n",
    "    incorrect_counts = []\n",
    "    for dictionary in d:\n",
    "        if dictionary['text'] == 'INCORRECT':\n",
    "            incorrect_counts.append(1)\n",
    "        else:\n",
    "            incorrect_counts.append(0)\n",
    "    stor.loc[chunk_size,'num_incorrect']=sum(incorrect_counts)"
   ]
  },
  {
   "cell_type": "code",
   "execution_count": 42,
   "metadata": {},
   "outputs": [],
   "source": [
    "stor['pct_incorrect'] = stor['num_incorrect'] / 7"
   ]
  },
  {
   "cell_type": "code",
   "execution_count": 51,
   "metadata": {},
   "outputs": [
    {
     "data": {
      "image/png": "[encoded data removed]",
      "text/plain": [
       "<Figure size 640x480 with 1 Axes>"
      ]
     },
     "metadata": {},
     "output_type": "display_data"
    }
   ],
   "source": [
    "import matplotlib.pyplot as plt\n",
    "%matplotlib inline\n",
    "stor['pct_correct'] = 1 - stor['pct_incorrect']\n",
    "stor['pct_correct'].plot(kind='bar')\n",
    "plt.title('Percentage of Correct Answers')\n",
    "plt.xlabel('Chunk Size')\n",
    "plt.ylabel('Percentage')\n",
    "plt.show()"
   ]
  },
  {
   "cell_type": "code",
   "execution_count": 46,
   "metadata": {},
   "outputs": [
    {
     "data": {
      "text/html": [
       "<div>\n",
       "<style scoped>\n",
       "    .dataframe tbody tr th:only-of-type {\n",
       "        vertical-align: middle;\n",
       "    }\n",
       "\n",
       "    .dataframe tbody tr th {\n",
       "        vertical-align: top;\n",
       "    }\n",
       "\n",
       "    .dataframe thead th {\n",
       "        text-align: right;\n",
       "    }\n",
       "</style>\n",
       "<table border=\"1\" class=\"dataframe\">\n",
       "  <thead>\n",
       "    <tr style=\"text-align: right;\">\n",
       "      <th></th>\n",
       "      <th>num_incorrect</th>\n",
       "      <th>pct_incorrect</th>\n",
       "    </tr>\n",
       "  </thead>\n",
       "  <tbody>\n",
       "    <tr>\n",
       "      <th>250</th>\n",
       "      <td>4.0</td>\n",
       "      <td>0.571429</td>\n",
       "    </tr>\n",
       "    <tr>\n",
       "      <th>500</th>\n",
       "      <td>2.0</td>\n",
       "      <td>0.285714</td>\n",
       "    </tr>\n",
       "    <tr>\n",
       "      <th>1000</th>\n",
       "      <td>1.0</td>\n",
       "      <td>0.142857</td>\n",
       "    </tr>\n",
       "    <tr>\n",
       "      <th>2000</th>\n",
       "      <td>1.0</td>\n",
       "      <td>0.142857</td>\n",
       "    </tr>\n",
       "    <tr>\n",
       "      <th>3000</th>\n",
       "      <td>2.0</td>\n",
       "      <td>0.285714</td>\n",
       "    </tr>\n",
       "  </tbody>\n",
       "</table>\n",
       "</div>"
      ],
      "text/plain": [
       "      num_incorrect  pct_incorrect\n",
       "250             4.0       0.571429\n",
       "500             2.0       0.285714\n",
       "1000            1.0       0.142857\n",
       "2000            1.0       0.142857\n",
       "3000            2.0       0.285714"
      ]
     },
     "execution_count": 46,
     "metadata": {},
     "output_type": "execute_result"
    }
   ],
   "source": [
    "stor"
   ]
  }
 ],
 "metadata": {
  "kernelspec": {
   "display_name": "Python 3 (ipykernel)",
   "language": "python",
   "name": "python3"
  },
  "language_info": {
   "codemirror_mode": {
    "name": "ipython",
    "version": 3
   },
   "file_extension": ".py",
   "mimetype": "text/x-python",
   "name": "python",
   "nbconvert_exporter": "python",
   "pygments_lexer": "ipython3",
   "version": "3.9.16"
  },
  "orig_nbformat": 4
 },
 "nbformat": 4,
 "nbformat_minor": 2
}
